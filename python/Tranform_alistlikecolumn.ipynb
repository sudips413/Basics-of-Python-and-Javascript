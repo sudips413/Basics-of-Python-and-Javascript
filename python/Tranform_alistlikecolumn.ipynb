{
 "cells": [
  {
   "attachments": {},
   "cell_type": "markdown",
   "metadata": {},
   "source": [
    "# Obesity is the dataframe"
   ]
  },
  {
   "cell_type": "code",
   "execution_count": null,
   "metadata": {},
   "outputs": [],
   "source": [
    "# Explode the values of bounds to a separate row\n",
    "obesity_bounds = obesity['bounds'].explode()\n",
    "\n",
    "# Print obesity_bounds\n",
    "print(obesity_bounds)"
   ]
  },
  {
   "cell_type": "code",
   "execution_count": null,
   "metadata": {},
   "outputs": [],
   "source": [
    "# Merge obesity_bounds with country and perc_obesity columns of obesity using the indexes\n",
    "obesity_final = obesity[['country', 'perc_obesity']].merge(obesity_bounds, \n",
    "                                        right_index=True, \n",
    "                                        left_index=True)\n",
    "\n",
    "# Print obesity_final\n",
    "print(obesity_final)"
   ]
  },
  {
   "cell_type": "code",
   "execution_count": null,
   "metadata": {},
   "outputs": [],
   "source": [
    "# Transform the list-like column named bounds  \n",
    "obesity_explode = obesity.explode('bounds')\n",
    "# Modify obesity_explode by resetting the index \n",
    "obesity_explode.reset_index(drop=True, inplace=True)\n",
    "\n",
    "# Print obesity_explode\n",
    "print(obesity_explode)"
   ]
  },
  {
   "cell_type": "code",
   "execution_count": null,
   "metadata": {},
   "outputs": [],
   "source": [
    "# Split the columns bounds using a hyphen as delimiter\n",
    "obesity_split = obesity['bounds'].str.split('-')\n",
    "\n",
    "# Print obesity_split\n",
    "print(obesity_split)"
   ]
  },
  {
   "cell_type": "code",
   "execution_count": null,
   "metadata": {},
   "outputs": [],
   "source": [
    "# Assign the result of the split to the bounds column\n",
    "obesity_split = obesity.assign(bounds=obesity['bounds'].str.split('-'))\n",
    "\n",
    "# Print obesity\n",
    "print(obesity_split)"
   ]
  },
  {
   "cell_type": "code",
   "execution_count": null,
   "metadata": {},
   "outputs": [],
   "source": [
    "# Transform the column bounds in the obesity DataFrame\n",
    "obesity_split = obesity.assign(bounds=obesity['bounds'].str.split('-')).explode('bounds')\n",
    "\n",
    "# Print obesity_split\n",
    "print(obesity_split)"
   ]
  },
  {
   "cell_type": "code",
   "execution_count": null,
   "metadata": {},
   "outputs": [],
   "source": []
  }
 ],
 "metadata": {
  "language_info": {
   "name": "python"
  },
  "orig_nbformat": 4
 },
 "nbformat": 4,
 "nbformat_minor": 2
}

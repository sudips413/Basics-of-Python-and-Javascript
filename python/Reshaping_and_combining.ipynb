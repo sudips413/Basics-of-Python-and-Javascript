{
 "cells": [
  {
   "attachments": {},
   "cell_type": "markdown",
   "metadata": {},
   "source": [
    "# obesity is the Dataframe"
   ]
  },
  {
   "cell_type": "code",
   "execution_count": null,
   "metadata": {},
   "outputs": [],
   "source": [
    "# Unstack the first level and calculate the mean of the columns\n",
    "obesity_general = obesity.unstack(level=0).mean(axis=1)\n",
    "\n",
    "# Print obesity_general\n",
    "print(obesity_general)"
   ]
  },
  {
   "cell_type": "code",
   "execution_count": null,
   "metadata": {},
   "outputs": [],
   "source": [
    "# Unstack the second level and calculate the mean of the columns\n",
    "obesity_mean = obesity.unstack(level=1).mean(axis=1)\n",
    "\n",
    "# Print obesity_mean\n",
    "print(obesity_mean)"
   ]
  },
  {
   "cell_type": "code",
   "execution_count": null,
   "metadata": {},
   "outputs": [],
   "source": [
    "# Unstack the third level and calculate the difference between columns\n",
    "obesity_variation = obesity.unstack(level=2).diff(axis=1)\n",
    "\n",
    "# Print obesity_variation\n",
    "print(obesity_variation)"
   ]
  },
  {
   "cell_type": "code",
   "execution_count": null,
   "metadata": {},
   "outputs": [],
   "source": [
    "# Stack obesity, get median of columns and unstack again\n",
    "median_obesity = obesity.stack().median(axis=1).unstack()\n",
    "\n",
    "# Print median_obesity\n",
    "print(median_obesity)"
   ]
  },
  {
   "cell_type": "code",
   "execution_count": null,
   "metadata": {},
   "outputs": [],
   "source": [
    "# Stack the first level, get sum, and unstack the second level\n",
    "obesity_sum = obesity.stack(0).sum(axis=1).unstack(1)\n",
    "\n",
    "# Print obesity_max\n",
    "print(obesity_sum)"
   ]
  },
  {
   "cell_type": "code",
   "execution_count": null,
   "metadata": {},
   "outputs": [],
   "source": [
    "# Stack country level, group by country and get the mean\n",
    "obesity_mean = obesity.stack(level='country').groupby(level='country').mean()\n",
    "\n",
    "# Print obesity_mean\n",
    "print(obesity_mean)"
   ]
  },
  {
   "cell_type": "code",
   "execution_count": null,
   "metadata": {},
   "outputs": [],
   "source": [
    "# Stack country level, group by country and get the median \n",
    "obesity_median = obesity.stack(level='country').groupby(level='country').median()\n",
    "\n",
    "# Print obesity_median\n",
    "print(obesity_median)"
   ]
  }
 ],
 "metadata": {
  "language_info": {
   "name": "python"
  },
  "orig_nbformat": 4
 },
 "nbformat": 4,
 "nbformat_minor": 2
}

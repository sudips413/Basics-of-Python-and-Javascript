{
 "cells": [
  {
   "attachments": {},
   "cell_type": "markdown",
   "metadata": {},
   "source": [
    "# movies is the dataframe"
   ]
  },
  {
   "cell_type": "code",
   "execution_count": null,
   "metadata": {},
   "outputs": [],
   "source": [
    "# Import the json_normalize function\n",
    "from pandas import json_normalize\n",
    "\n",
    "# Normalize movies and separate the new columns with an underscore \n",
    "movies_norm = json_normalize(movies, sep='_')\n",
    "\n",
    "# Reshape using director and producer as index, create movies from column starting from features\n",
    "movies_long = pd.wide_to_long(movies_norm, stubnames='features', \n",
    "                      i=['director','producer'], j='movies', \n",
    "                      sep='_', suffix='\\w+')\n",
    "\n",
    "# Print movies_long\n",
    "print(movies_long)"
   ]
  },
  {
   "cell_type": "code",
   "execution_count": null,
   "metadata": {},
   "outputs": [],
   "source": [
    "# Specify the features column as the list of records \n",
    "normalize_movies = json_normalize(movies, \n",
    "                                  record_path='features')\n",
    "\n",
    "# Print normalize_movies\n",
    "print(normalize_movies)"
   ]
  },
  {
   "cell_type": "code",
   "execution_count": null,
   "metadata": {},
   "outputs": [],
   "source": [
    "# Specify director and producer to use as metadata for each record \n",
    "normalize_movies = json_normalize(movies, \n",
    "                                  record_path='features', \n",
    "                                  meta=['director','producer'])\n",
    "\n",
    "# Print normalize_movies\n",
    "print(normalize_movies)"
   ]
  },
  {
   "attachments": {},
   "cell_type": "markdown",
   "metadata": {},
   "source": [
    "# names nad bird_facts\n",
    "\n"
   ]
  },
  {
   "cell_type": "code",
   "execution_count": null,
   "metadata": {},
   "outputs": [],
   "source": [
    "# Define birds reading names and bird_facts lists into names and bird_facts columns \n",
    "birds = pd.DataFrame(dict(names=names,bird_facts=bird_facts))\n",
    "\n",
    "# Print birds\n",
    "print(birds)"
   ]
  },
  {
   "cell_type": "code",
   "execution_count": null,
   "metadata": {},
   "outputs": [],
   "source": [
    "# Define birds reading names and bird_facts lists into names and bird_facts columns\n",
    "birds = pd.DataFrame(dict(names=names, bird_facts=bird_facts))\n",
    "\n",
    "# Apply the function json.loads function to the bird_facts column\n",
    "data_split = birds['bird_facts'].apply(json.loads).apply(pd.Series)\n",
    "\n",
    "# Print birds\n",
    "print(data_split)"
   ]
  },
  {
   "cell_type": "code",
   "execution_count": null,
   "metadata": {},
   "outputs": [],
   "source": [
    "# Define birds reading names and bird_facts lists into names and bird_facts columns\n",
    "birds = pd.DataFrame(dict(names=names, bird_facts=bird_facts))\n",
    "\n",
    "# Apply to bird_facts column the function loads from json module\n",
    "data_split = birds['bird_facts'].apply(json.loads).apply(pd.Series)\n",
    "\n",
    "# Remove the bird_facts column from birds\n",
    "birds = birds.drop(columns='bird_facts')\n",
    "\n",
    "# Concatenate the columns of birds and data_split\n",
    "birds = pd.concat([birds,data_split], axis=1)\n",
    "\n",
    "# Print birds\n",
    "print(birds)"
   ]
  },
  {
   "cell_type": "code",
   "execution_count": null,
   "metadata": {},
   "outputs": [],
   "source": [
    "# Apply json.loads to the bird_facts column and transform it to a list\n",
    "birds_facts = birds['bird_facts'].apply(json.loads).to_list()\n",
    "\n",
    "# Print birds_facts\n",
    "print(birds_facts)"
   ]
  },
  {
   "cell_type": "markdown",
   "metadata": {},
   "source": []
  }
 ],
 "metadata": {
  "kernelspec": {
   "display_name": "kaggle",
   "language": "python",
   "name": "python3"
  },
  "language_info": {
   "name": "python",
   "version": "3.9.13"
  },
  "orig_nbformat": 4,
  "vscode": {
   "interpreter": {
    "hash": "c4fea0eb92f3fef83297d10c0b617ff9937b617fe17ff0277fec4db8d579571f"
   }
  }
 },
 "nbformat": 4,
 "nbformat_minor": 2
}
